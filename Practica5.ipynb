{
 "cells": [
  {
   "cell_type": "markdown",
   "id": "9ea6471a",
   "metadata": {},
   "source": [
    "## Práctica 5 - Programación Funcional\n",
    "\n",
    "### Ejercicio 1\n",
    "\n",
    "Dada una lista de números enteros cualquiera, utilice los métodos map, filter y reduce para filtrar los números impares de la lista y calcular la suma de sus cuadrados."
   ]
  },
  {
   "cell_type": "code",
   "execution_count": 2,
   "id": "9c519201",
   "metadata": {},
   "outputs": [
    {
     "name": "stdout",
     "output_type": "stream",
     "text": [
      "Números impares encontrados: [33, 21, 45, 67, 89, 11, 19]\n",
      "Números impares elevado al cuadrado: [1089, 441, 2025, 4489, 7921, 121, 361]\n",
      "Suma de los cuadrados: 16447\n"
     ]
    }
   ],
   "source": [
    "from functools import reduce\n",
    "\n",
    "lista = [33, 56, 21, 00, 326, 45, 67, 89, 12, 34, 932, 28, 496, 11, 28, 19]\n",
    "\n",
    "#Filtramos los números impares\n",
    "impares = list(filter(lambda x: x % 2 != 0, lista))\n",
    "print(\"Números impares encontrados:\", impares)\n",
    "\n",
    "#Elevamos al cuadrado la lista resultante\n",
    "cuadrados = list(map(lambda x: x**2, impares))\n",
    "print(\"Números impares elevado al cuadrado:\", cuadrados)\n",
    "\n",
    "#Hacemos la suma de los cuadrados\n",
    "resultado = reduce(lambda x, y: x + y, cuadrados)\n",
    "print(\"Suma de los cuadrados:\", resultado)\n"
   ]
  },
  {
   "cell_type": "markdown",
   "id": "4184f67b",
   "metadata": {},
   "source": [
    "## Ejercicio 2\n",
    "\n",
    "Dada una lista de diccionarios que representan productos con nombre (llave en el diccionario) y precio (valor de la llave en el diccionario), filtre los productos que cuestan más de $200, y aplique un descuento del 10%. Finalmente calcule el total de los productos que tienen descuento."
   ]
  },
  {
   "cell_type": "code",
   "execution_count": 18,
   "id": "06e543cb",
   "metadata": {},
   "outputs": [
    {
     "name": "stdout",
     "output_type": "stream",
     "text": [
      "Productos filtrados: {'corte de carne': 250.0, 'paquete de salmón': 220.0, 'vino': 300.0, 'pastel': 230.0}\n",
      "Productos con descuento:  {'corte de carne': 225.0, 'paquete de salmón': 198.0, 'vino': 270.0, 'pastel': 207.0}\n",
      "Total después del descuento: 900.0\n"
     ]
    }
   ],
   "source": [
    "from functools import reduce\n",
    "\n",
    "productos = {\"pan de caja\": 50.00, \"leche\": 30.00, \"jamón serrano\": 150.00, \"corte de carne\": 250.00, \"paquete de salmón\": 220.00, \"vino\": 300.00, \"queso\":80.00, \"pastel\": 230.00}\n",
    "\n",
    "#Filtramos los productos que cuestan más de 200\n",
    "productos_filtrados = dict(filter(lambda x: x[1]>200, productos.items()))\n",
    "print(\"Productos filtrados:\", productos_filtrados)\n",
    "\n",
    "#Aplicamos un descuento del 10% a los productos filtrados\n",
    "productos_descuento = dict(map(lambda x: (x[0], x[1]*0.9), productos_filtrados.items()))\n",
    "print(\"Productos con descuento: \", productos_descuento)\n",
    "\n",
    "#Sumamos los precios de los productos con descuento\n",
    "total = reduce(lambda x, y: x + y, productos_descuento.values())\n",
    "print(\"Total después del descuento:\", total)"
   ]
  },
  {
   "cell_type": "markdown",
   "id": "3e1bd07b",
   "metadata": {},
   "source": [
    "## Ejercicio 3\n",
    "\n",
    "Existe un método llamado mínimos cuadrados que en su caso lineal permite obtener una línea recta que se aproxima a una serie de m puntos (x,y). La recta resultante del método es y=ao+a1x. Desarrolle un programa en Python que realice el cálculo de las fórmulas, utilice las funciones lambda, map, filter y/o reduce para el cálculo de las sumatorias según sea necesario. Considere que los puntos para el cálculo se reciben como una lista de tuplas (cada tupla es un punto (x,y)) y m es el número de tuplas en la lista."
   ]
  },
  {
   "cell_type": "code",
   "execution_count": 39,
   "id": "c01969fd",
   "metadata": {},
   "outputs": [
    {
     "name": "stdout",
     "output_type": "stream",
     "text": [
      "El coeficiente a0 es: -0.360\n",
      "El coeficiente a1 es:  1.538\n",
      "\n",
      "La recta resultante del método es: y = -0.360 + 1.538x\n"
     ]
    }
   ],
   "source": [
    "from functools import reduce\n",
    "\n",
    "datos = [(1, 1.3),(2,3.5),(3,4.2),(4,5),(5,7),(6,8.8),(7,10.1),(8,12.5),(9,13),(10,15.6)]\n",
    "\n",
    "m = len(datos)\n",
    "#print(m)\n",
    "Sumx2 = reduce(lambda x, y: x + y, map(lambda x: x[0]**2, datos))\n",
    "#print(Sumx2)\n",
    "Sumy = reduce(lambda x, y: x + y, map(lambda x: x[1], datos))\n",
    "#print(Sumy)\n",
    "Sumxy = reduce(lambda x, y: x + y, map(lambda x: x[0]*x[1], datos))\n",
    "#print(Sumxy)\n",
    "Sumx = reduce(lambda x, y: x + y, map(lambda x: x[0], datos))\n",
    "#print(Sumx)\n",
    "\n",
    "a0 = ((Sumx2*Sumy)-(Sumxy*Sumx))/((m*Sumx2)-(Sumx**2))\n",
    "print(f\"El coeficiente a0 es: {a0: .3f}\")\n",
    "\n",
    "a1 = ((m*Sumxy)-(Sumx*Sumy))/((m*Sumx2)-(Sumx**2))\n",
    "print(f\"El coeficiente a1 es: {a1: .3f}\")\n",
    "print()\n",
    "print(f\"La recta resultante del método es: y = {a0: .3f} +{a1: .3f}x\")\n",
    "\n"
   ]
  }
 ],
 "metadata": {
  "kernelspec": {
   "display_name": "Python 3",
   "language": "python",
   "name": "python3"
  },
  "language_info": {
   "codemirror_mode": {
    "name": "ipython",
    "version": 3
   },
   "file_extension": ".py",
   "mimetype": "text/x-python",
   "name": "python",
   "nbconvert_exporter": "python",
   "pygments_lexer": "ipython3",
   "version": "3.11.9"
  }
 },
 "nbformat": 4,
 "nbformat_minor": 5
}
