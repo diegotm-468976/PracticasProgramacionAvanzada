{
 "cells": [
  {
   "cell_type": "markdown",
   "id": "86de3d9d",
   "metadata": {},
   "source": [
    "## Práctica 3 - Programación Orientada a Objetos\n",
    "\n",
    "### Ejercicio 1\n",
    "\n",
    "Escriba una clase llamada vector que deberá tener dos propiedades x, y para almacenar la posición del vector en el plano cartesino. Además debe tener un método que calcule la magnitud del vector, uno que determine el ángulo en radianes y otro método que determine el ángulo en grados. La clase debe utilizar la función str() para mostrar la representación del vector de la forma (x,y).\n",
    "\n",
    "La clase también debe utilizar la función add para la suma de vectores. Recuerde que la suma de los dos vectores se hace por componentes X y por componentes Y. La suma debe devolver el resultado como vector en la forma (x,y)."
   ]
  },
  {
   "cell_type": "code",
   "execution_count": 3,
   "id": "1dac7cee",
   "metadata": {},
   "outputs": [],
   "source": [
    "import math\n",
    "\n",
    "class Vector:\n",
    "    def __init__(self, x, y):\n",
    "        self.x, self.y = x, y\n",
    "    \n",
    "    def magnitud (self):\n",
    "        return math.sqrt(pow(self.x,2)+(pow(self.y,2)))\n",
    "    \n",
    "    def AngRad (self):\n",
    "        return math.atan(self.y/self.x)\n",
    "    \n",
    "    def AngDeg (self):\n",
    "        return self.AngRad()*180/math.pi\n",
    "    \n",
    "    def __str__(self):\n",
    "        return f\"({self.x}, {self.y})\"\n",
    "    \n",
    "    def __add__(self, other):\n",
    "        return self + other"
   ]
  },
  {
   "cell_type": "code",
   "execution_count": 8,
   "id": "69d4ff30",
   "metadata": {},
   "outputs": [
    {
     "name": "stdout",
     "output_type": "stream",
     "text": [
      "La magnitud del vector 1 es: 5.0990195135927845\n",
      "El ángulo del vector 1 en radianes es: -0.19739555984988078\n",
      "El ángulo del vector 1 en grados es: -11.309932474020213\n",
      "La representación del vector 1 en la forma (x,y) es: (5, -1)\n",
      "\n",
      "La magnitud del vector 2 es: 4.47213595499958\n",
      "El ángulo del vector 2 en radianes es: -1.1071487177940904\n",
      "El ángulo del vector 2 en grados es: -63.43494882292201\n",
      "La representación del vector 2 en la forma (x,y) es: (2, -4)\n",
      "\n",
      "La suma de los vectores 1 y 2 es: (7, -5)\n"
     ]
    }
   ],
   "source": [
    "v1 = Vector(5,-1)\n",
    "print(f\"La magnitud del vector 1 es: {v1.magnitud()}\")\n",
    "print(f\"El ángulo del vector 1 en radianes es: {v1.AngRad()}\")\n",
    "print(f\"El ángulo del vector 1 en grados es: {v1.AngDeg()}\")\n",
    "print(f\"La representación del vector 1 en la forma (x,y) es: {v1}\")\n",
    "print()\n",
    "v2= Vector(2, -4)\n",
    "print(f\"La magnitud del vector 2 es: {v2.magnitud()}\")\n",
    "print(f\"El ángulo del vector 2 en radianes es: {v2.AngRad()}\")\n",
    "print(f\"El ángulo del vector 2 en grados es: {v2.AngDeg()}\")\n",
    "print(f\"La representación del vector 2 en la forma (x,y) es: {v2}\")\n",
    "print()\n",
    "v3 = Vector(v1.x + v2.x, v1.y + v2.y)\n",
    "print(f\"La suma de los vectores 1 y 2 es: {v3}\")"
   ]
  },
  {
   "cell_type": "markdown",
   "id": "12b8831e",
   "metadata": {},
   "source": [
    "#### Ejercicio 2\n",
    "\n",
    "Desarrollar un mini-sistema para el registro de huéspedes de un hotel. Para ello desarrolle una clase Persona que tenga los atributos nombre y edad.  Debe tener una propiedad que muestre la información de la persona. Desarrolle además otra clase llamada Huésped que se construya a partir de la clase Persona de manera que herede sus propiedades y métodos."
   ]
  },
  {
   "cell_type": "code",
   "execution_count": 85,
   "id": "c1bb4d70",
   "metadata": {},
   "outputs": [],
   "source": [
    "import datetime\n",
    "\n",
    "class Persona:\n",
    "    def __init__(self, nombre, edad):\n",
    "        self.nombre, self.edad = nombre, edad\n",
    "\n",
    "    def mostrarInformacion(self):\n",
    "        print(f\"Nombre: {self.nombre}\\nEdad: {self.edad} años\")\n",
    "\n",
    "class Huesped(Persona):\n",
    "    def __init__(self, nombre, edad, habitacion, rfc, num_cuenta, fecha_ingreso, hospedado, servicio_habitacion):\n",
    "        super().__init__(nombre, edad)\n",
    "        self.habitacion = int(habitacion)\n",
    "        self.rfc = str(rfc)\n",
    "        self.num_cuenta = int(num_cuenta)\n",
    "        self.fecha_ingreso = fecha_ingreso\n",
    "        self.hospedado = bool(hospedado)\n",
    "        self.servicio_habitacion = servicio_habitacion\n",
    "    \n",
    "    def mostrarInformacionH(self):\n",
    "        print(f\"Nombre: {self.nombre}\")\n",
    "        print(f\"Edad: {self.edad}\")\n",
    "        print(f\"Habitación: {self.habitacion}\")\n",
    "        print(f\"Número de cuenta: {self.num_cuenta}\")\n",
    "        print(f\"Fecha de ingreso: {self.fecha_ingreso}\")\n",
    "        print(f\"Hospedado: {self.hospedado}\")\n",
    "        print(f\"Servicio a la habitación: {self.servicio_habitacion}\")\n",
    "        \n",
    "    \n",
    "    def saldo (self):\n",
    "        if self.hospedado == True:\n",
    "            diashosp = ((datetime.date.today()-self.fecha_ingreso)).days\n",
    "            costhosp = diashosp*1200\n",
    "            servhab = sum(self.servicio_habitacion.values())\n",
    "            return f\"Días de hospedaje: {diashosp}, Costo por noche: $1200.0 Servicio a la habitación: ${servhab} Total: ${costhosp+servhab}\"\n",
    "        else:\n",
    "            return \"El huésped no se encuentra hospedado\""
   ]
  },
  {
   "cell_type": "code",
   "execution_count": 86,
   "id": "5eb3bd5c",
   "metadata": {},
   "outputs": [
    {
     "name": "stdout",
     "output_type": "stream",
     "text": [
      "Mostrando información básica de la persona\n",
      "Nombre: Pedro\n",
      "Edad: 29 años\n",
      "\n",
      "Mostrando información básica del huesped, del método heredado de la clase Persona\n",
      "Nombre: Pedro\n",
      "Edad: 29 años\n",
      "\n",
      "Mostrando información del huesped con las propiedades adicionales\n",
      "Nombre: Pedro\n",
      "Edad: 29\n",
      "Habitación: 401\n",
      "Número de cuenta: 24534\n",
      "Fecha de ingreso: 2025-05-12\n",
      "Hospedado: True\n",
      "Servicio a la habitación: {'Sandwich de Pollo': 120.0, 'Boneless de Pollo': 130.0}\n",
      "\n",
      "Mostrando el saldo al día de hoy\n"
     ]
    },
    {
     "data": {
      "text/plain": [
       "'Días de hospedaje: 3, Costo por noche: $1200.0 Servicio a la habitación: $250.0 Total: $3850.0'"
      ]
     },
     "execution_count": 86,
     "metadata": {},
     "output_type": "execute_result"
    }
   ],
   "source": [
    "Persona1 = Persona(\"Pedro\", 29)\n",
    "print(\"Mostrando información básica de la persona\")\n",
    "Persona1.mostrarInformacion()\n",
    "print()\n",
    "Huesped1 = Huesped(\"Pedro\", 29, 401, \"JULP8909123T1\", 24534, datetime.date(2025, 5, 12), True, {\"Sandwich de Pollo\" : 120.00, \"Boneless de Pollo\" : 130.00})\n",
    "print(\"Mostrando información básica del huesped, del método heredado de la clase Persona\")\n",
    "Huesped1.mostrarInformacion()\n",
    "print()\n",
    "print(\"Mostrando información del huesped con las propiedades adicionales\")\n",
    "Huesped1.mostrarInformacionH()\n",
    "print()\n",
    "print(\"Mostrando el saldo al día de hoy\")\n",
    "Huesped1.saldo()\n"
   ]
  },
  {
   "cell_type": "code",
   "execution_count": 87,
   "id": "efa6804a",
   "metadata": {},
   "outputs": [
    {
     "name": "stdout",
     "output_type": "stream",
     "text": [
      "\n",
      "Mostrando información del huesped con las propiedades adicionales\n",
      "Nombre: Juan\n",
      "Edad: 45\n",
      "Habitación: 508\n",
      "Número de cuenta: 84654\n",
      "Fecha de ingreso: 2025-05-08\n",
      "Hospedado: True\n",
      "Servicio a la habitación: {'Pepito de Arrachera': 160.0, 'Bisquets con Mermelada': 80.0}\n",
      "\n",
      "Mostrando el saldo al día de hoy\n"
     ]
    },
    {
     "data": {
      "text/plain": [
       "'Días de hospedaje: 7, Costo por noche: $1200.0 Servicio a la habitación: $240.0 Total: $8640.0'"
      ]
     },
     "execution_count": 87,
     "metadata": {},
     "output_type": "execute_result"
    }
   ],
   "source": [
    "Huesped2 = Huesped(\"Juan\", 45, 508, \"MARL8003123H4\", 84654, datetime.date(2025, 5, 8), True, {\"Pepito de Arrachera\" : 160.00, \"Bisquets con Mermelada\" : 80.00})\n",
    "print()\n",
    "print(\"Mostrando información del huesped con las propiedades adicionales\")\n",
    "Huesped2.mostrarInformacionH()\n",
    "print()\n",
    "print(\"Mostrando el saldo al día de hoy\")\n",
    "Huesped2.saldo()"
   ]
  }
 ],
 "metadata": {
  "kernelspec": {
   "display_name": "Python 3",
   "language": "python",
   "name": "python3"
  },
  "language_info": {
   "codemirror_mode": {
    "name": "ipython",
    "version": 3
   },
   "file_extension": ".py",
   "mimetype": "text/x-python",
   "name": "python",
   "nbconvert_exporter": "python",
   "pygments_lexer": "ipython3",
   "version": "3.11.9"
  }
 },
 "nbformat": 4,
 "nbformat_minor": 5
}
