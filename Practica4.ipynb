{
 "cells": [
  {
   "cell_type": "markdown",
   "id": "d222a8e5",
   "metadata": {},
   "source": [
    "## Práctica 4\n",
    "\n",
    "### Ejercicio 1\n",
    "Implemente una clase Rectángulo que represente un rectángulo y que tenga dos atributos base y alura. Use __eq__ para comparar si dos rectángulos son iguales (misma base y altura) y __ne__ para verificar si son diferentes. Utilice los métodos __gt__ y __lt__ para comparar el área de dos rectángulos, devuelva True o False según sea el caso."
   ]
  },
  {
   "cell_type": "code",
   "execution_count": 19,
   "id": "3d23c4d4",
   "metadata": {},
   "outputs": [
    {
     "name": "stdout",
     "output_type": "stream",
     "text": [
      "True\n",
      "False\n",
      "False\n",
      "True\n",
      "False\n",
      "False\n"
     ]
    }
   ],
   "source": [
    "class Rectangulo:\n",
    "    def __init__(self, base, altura):\n",
    "        self.base = base\n",
    "        self.altura = altura\n",
    "    \n",
    "    def __eq__(self, other):\n",
    "        return (self.base,self.altura) == (other.base, other.altura)\n",
    "    \n",
    "    def __ne__(self, other):\n",
    "        return (self.base,self.altura) !=  (other.base, other.altura)\n",
    "    \n",
    "    def __gt__(self, other):\n",
    "        return (self.base*self.altura) > (other.base, other.altura)\n",
    "    \n",
    "    def __lt__(self, other):\n",
    "        return (self.base*self.altura) < (other.base, other.altura)\n",
    "\n",
    "r1 = (10, 2)\n",
    "r2 = (10, 2)\n",
    "r3 = (2, 10)\n",
    "r4 = (3, 6)\n",
    "\n",
    "print(r1 == r2)\n",
    "print(r1 == r3)\n",
    "print(r1 > r2)\n",
    "print(r1 > r4)\n",
    "print(r1 < r2)\n",
    "print(r1 < r4)\n",
    "\n"
   ]
  },
  {
   "cell_type": "markdown",
   "id": "716eb621",
   "metadata": {},
   "source": [
    "### Ejercicio 2\n",
    "\n",
    "Implemente una clase Playlist que tenga una lista de sus canciones favoritas. Use el método __len__ para devolver el número de canciones mediante el llamado len(miLista). Utilice además el método __getitem__ para devolver una canción de la lista de acuerdo al argumento recibido en el método. Finalmente utilice __setitem__ para establecer una nueva canción en la posición indicada, ambos pasados como argumentos del método."
   ]
  },
  {
   "cell_type": "code",
   "execution_count": 3,
   "id": "5f2edcd6",
   "metadata": {},
   "outputs": [
    {
     "name": "stdout",
     "output_type": "stream",
     "text": [
      "Lista original de canciones: ['Canción1', 'Canción2', 'Canción3', 'Canción4', 'Canción5']\n",
      "Número de canciones: 5\n",
      "Canción en posición 4: Canción5\n",
      "Canción actualizada en posición 1: Nueva Cancion\n",
      "Lista actualizada de canciones: ['Canción1', 'Nueva Cancion', 'Canción3', 'Canción4', 'Canción5']\n"
     ]
    }
   ],
   "source": [
    "class Playlist:\n",
    "    def __init__(self):\n",
    "        self.canciones = []\n",
    "    \n",
    "    def __len__(self):\n",
    "        return len(self.canciones)\n",
    "    \n",
    "    def __getitem__(self, pos):\n",
    "        return self.canciones[pos]\n",
    "    \n",
    "    def __setitem__(self, pos, cancion):\n",
    "        self.canciones[pos] = cancion\n",
    "\n",
    "playlist = Playlist()\n",
    "playlist.canciones.extend([\"Canción1\", \"Canción2\", \"Canción3\", \"Canción4\", \"Canción5\"])\n",
    "\n",
    "print(f\"Lista original de canciones: {playlist.canciones}\")\n",
    "\n",
    "print(f\"Número de canciones: {len(playlist)}\")\n",
    "\n",
    "print(f\"Canción en posición 4: {playlist[4]}\")\n",
    "\n",
    "playlist[1] = 'Nueva Cancion'\n",
    "print(f\"Canción actualizada en posición 1: {playlist[1]}\")\n",
    "\n",
    "print(f\"Lista actualizada de canciones: {playlist.canciones}\")"
   ]
  }
 ],
 "metadata": {
  "kernelspec": {
   "display_name": "Python 3",
   "language": "python",
   "name": "python3"
  },
  "language_info": {
   "codemirror_mode": {
    "name": "ipython",
    "version": 3
   },
   "file_extension": ".py",
   "mimetype": "text/x-python",
   "name": "python",
   "nbconvert_exporter": "python",
   "pygments_lexer": "ipython3",
   "version": "3.11.9"
  }
 },
 "nbformat": 4,
 "nbformat_minor": 5
}
